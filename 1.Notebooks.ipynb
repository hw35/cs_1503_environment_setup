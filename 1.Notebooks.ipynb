{
 "cells": [
  {
   "cell_type": "markdown",
   "id": "9fb0dfae",
   "metadata": {},
   "source": [
    "# Level 1 Title \n",
    "- Jen Wang\n",
    "- 1/25/24\n"
   ]
  },
  {
   "cell_type": "markdown",
   "id": "67f4ceb4",
   "metadata": {},
   "source": [
    "## Markdown Exercises\n",
    "\n",
    "### Exercise 2\n",
    "- Why are you or are you not interested in machine learning?\n",
    "\n",
    "    I am interested in machine learning because this term is _overused_ everywhere and I would like to know what machine learning really is. I also took Intro to Machine Learning last semester, and the material was very interesting. So I want to learn more about the **math** behind it.\n",
    "\n",
    "\n",
    "- Make a Markdown list of 3--5 things you'd like to learn from this course.\n",
    "    1. Direct connection from statistics to machine learning. Intro to Machine Learning taught me many expressions and their derivations, but not connections from statistics/mathematics\n",
    "    2. Different types of machine learning\n",
    "    3. Statistics on the current application of machine learning in workplaces and companies"
   ]
  },
  {
   "cell_type": "markdown",
   "id": "9f884496",
   "metadata": {},
   "source": [
    "### Exercise 3\n",
    "![mood](https://media.giphy.com/media/l1KVaj5UcbHwrBMqI/giphy.gif?cid=82a1493bon47v2yj044x6eawa9fm120yfjfctdogoo145im3&ep=v1_gifs_trending&rid=giphy.gif&ct=g)"
   ]
  },
  {
   "cell_type": "markdown",
   "id": "ad437326",
   "metadata": {},
   "source": [
    "## Jupyter Notebook Exercises"
   ]
  },
  {
   "cell_type": "code",
   "execution_count": 1,
   "id": "97c0a868",
   "metadata": {},
   "outputs": [
    {
     "name": "stdout",
     "output_type": "stream",
     "text": [
      "What is your name? Jen\n",
      "Hello Jen !\n"
     ]
    }
   ],
   "source": [
    "name = input(prompt=\"What is your name? \")\n",
    "print(\"Hello\", name, \"!\")"
   ]
  },
  {
   "cell_type": "code",
   "execution_count": null,
   "id": "457f3e1f",
   "metadata": {},
   "outputs": [],
   "source": []
  }
 ],
 "metadata": {
  "kernelspec": {
   "display_name": "Python 3 (ipykernel)",
   "language": "python",
   "name": "python3"
  },
  "language_info": {
   "codemirror_mode": {
    "name": "ipython",
    "version": 3
   },
   "file_extension": ".py",
   "mimetype": "text/x-python",
   "name": "python",
   "nbconvert_exporter": "python",
   "pygments_lexer": "ipython3",
   "version": "3.9.12"
  }
 },
 "nbformat": 4,
 "nbformat_minor": 5
}
